{
 "cells": [
  {
   "cell_type": "markdown",
   "metadata": {},
   "source": [
    "# 4、调用alpha101、alpha191、技术因子、candleresearch或者自己创造衍生因子，要求：任意两个因子，进行画图观察，主要例子看alpha101research和candleresearch，写研究报告（画了什么因子，思考了什么现象，对现象进行描述）\n",
    "\n",
    "\n",
    "https://github.com/ChannelCMT/formula/wiki\n",
    "\n",
    "数据类型和周期自定\n"
   ]
  },
  {
   "cell_type": "markdown",
   "metadata": {},
   "source": [
    "# 5、观察两个因子，和价格图有什么联系，如果是蜡烛图，和成交量有什么联系，怎么找到相应的信号，提出自己信号进出场的假设。（分别完成两个因子的信号假设）\n",
    "\n",
    "信号进出场假设：可以借鉴MastatiscResearch，但不要将思路假设局限在均线上，可以观察大盘上的其他现象来写信号假设，也可以进行同时满足多个因子的信号来设计信号假设等等。\n",
    "\n",
    "此处需要说出联系、找到的信号、你的信号进出场假设是什么"
   ]
  },
  {
   "cell_type": "markdown",
   "metadata": {},
   "source": [
    "# 6、将你的其中一个假设落实，如果能完成两个更好，但不强求\n",
    "\n",
    "利用TimingSignal最后输出long、short、long_short这三个绩效表出来\n"
   ]
  },
  {
   "cell_type": "markdown",
   "metadata": {},
   "source": [
    "# 技术因子RSI"
   ]
  },
  {
   "cell_type": "code",
   "execution_count": 2,
   "metadata": {},
   "outputs": [
    {
     "name": "stdout",
     "output_type": "stream",
     "text": [
      "4.467571020126343\n"
     ]
    }
   ],
   "source": [
    "#观察技术因子RSI（较上一个星期，进出场信号有所修改）\n",
    "import warnings\n",
    "warnings.filterwarnings('ignore')\n",
    "\n",
    "from jaqs_fxdayu.data.dataservice import LocalDataService\n",
    "ds = LocalDataService()\n",
    "from time import time\n",
    "## 加freq参数\n",
    "\n",
    "start = time()\n",
    "path = r'./min_data/VnTrader_1Min_Db'\n",
    "props = {'fields': 'open,high,low,close,volume',\n",
    "         'symbol': 'BTCUSDT:binance' ,\n",
    "         'freq': '1H',\n",
    "         'start_date':20180601000000}\n",
    "\n",
    "Time_dict = ds.bar_reader(path,props) #读取数据\n",
    "print(time()-start)"
   ]
  },
  {
   "cell_type": "code",
   "execution_count": 3,
   "metadata": {},
   "outputs": [],
   "source": [
    "from jaqs_fxdayu.data.hf_dataview import HFDataView\n",
    "dv1H = HFDataView()"
   ]
  },
  {
   "cell_type": "code",
   "execution_count": 4,
   "metadata": {},
   "outputs": [
    {
     "name": "stdout",
     "output_type": "stream",
     "text": [
      "Initialize dataview success.\n"
     ]
    }
   ],
   "source": [
    "dv1H.create_init_dv(Time_dict.set_index([\"trade_date\",\"symbol\"]))"
   ]
  },
  {
   "cell_type": "code",
   "execution_count": 5,
   "metadata": {},
   "outputs": [],
   "source": [
    "import matplotlib.pyplot as plt\n",
    "import pandas as pd\n",
    "\n",
    "def Plot_Mean(dv, RSI_J, chart_name='dv_RSI', n=0):\n",
    "    fig,(ax,ax1) = plt.subplots(2,1,sharex=True, figsize=(15,15))\n",
    "    ax.plot(dv.get_ts('close', date_type='datetime').iloc[:,0].iloc[n:])\n",
    "    ax.set_title(chart_name,fontsize=24,color='b') \n",
    "    ax1.plot(RSI_J.iloc[n:], alpha=1)\n",
    "        \n",
    "    # plt.savefig(chart_name)\n",
    "    plt.show()\n"
   ]
  },
  {
   "cell_type": "code",
   "execution_count": 6,
   "metadata": {},
   "outputs": [],
   "source": [
    "dv1H.add_formula('Ui', \"\"\"If(close>Delay(close, 1),close-Delay(close, 1),If(close<Delay(close, 1), 0, 0))\"\"\", add_data=True)\n",
    "dv1H.add_formula('Di',\"\"\"If(close>Delay(close, 1),0,If(close<Delay(close, 1), Delay(close, 1)-close, 0))\"\"\", add_data=True)\n",
    "RSI = dv1H.add_formula('RSI_J',\n",
    "                         \"100-100/(1+(Ta('MA',0,Ui,Ui,Ui,Ui,Ui,12)/Ta('MA',0,Di,Di,Di,Di,Di,12)))\" ,\n",
    "                          add_data=True)"
   ]
  },
  {
   "cell_type": "code",
   "execution_count": null,
   "metadata": {},
   "outputs": [],
   "source": []
  },
  {
   "cell_type": "markdown",
   "metadata": {},
   "source": [
    "较上一星期，重新修改了自己的进出场信号\n",
    "进场信号： \n",
    "long:如果出现，当6日RSI向上穿过12日RSI & 前一个小时的6日RSI向下穿过12日RSI & RSI的值小于30 的信号时，赋值2表示做多，下多单。\n",
    "short:如果出现，当6日RSI向下穿过12日RSI & 前一个小时的6日RSI向上穿过12日RSI & RSI的值大于70 的信号时，赋值-2表示做空，下空单。\n",
    "出场信号： \n",
    "close_long：判断当前市场是否出现新的信号可以开空单，那么就平掉原来的多仓，否则继续持有多仓。赋值为1，表示平多仓。\n",
    "close_short：判断当前市场是否出现新的信号可以开多单，那么就平掉原来的空仓，否则继续持有空仓。赋值为-1，表示平空仓。"
   ]
  },
  {
   "cell_type": "code",
   "execution_count": null,
   "metadata": {},
   "outputs": [],
   "source": []
  },
  {
   "cell_type": "code",
   "execution_count": 28,
   "metadata": {},
   "outputs": [
    {
     "name": "stdout",
     "output_type": "stream",
     "text": [
      "Field [long] is overwritten.\n",
      "Field [short] is overwritten.\n",
      "Field [closeLong] is overwritten.\n",
      "Field [closeShort] is overwritten.\n"
     ]
    }
   ],
   "source": [
    "# 进场信号\n",
    "long = dv1H.add_formula(\"long\",\"If((Ts_Mean(RSI_J,6)>Ts_Mean(RSI_J,12)) && (Delay(Ts_Mean(RSI_J,6),1)<=Delay(Ts_Mean(RSI_J,12),1) && (RSI_J<30)),2,0)\", add_data=True)\n",
    "short = dv1H.add_formula(\"short\",\"If((Ts_Mean(RSI_J,6)<Ts_Mean(RSI_J,12)) && (Delay(Ts_Mean(RSI_J,6),1)>=Delay(Ts_Mean(RSI_J,12),1) && (RSI_J>70)),-2,0)\", add_data=True)\n",
    "\n",
    "# 出场信号\n",
    "close_long = dv1H.add_formula(\"closeLong\",\"If(short==-2,1,0)\", add_data=True)\n",
    "close_short = dv1H.add_formula(\"closeShort\",\"If(long==2,-1,0)\", add_data=True)"
   ]
  },
  {
   "cell_type": "code",
   "execution_count": 29,
   "metadata": {},
   "outputs": [
    {
     "data": {
      "text/plain": [
       "trade_date      symbol         \n",
       "20180608120000  BTCUSDT:binance    2.0\n",
       "20180610190000  BTCUSDT:binance    2.0\n",
       "20180611110000  BTCUSDT:binance    2.0\n",
       "20180613110000  BTCUSDT:binance    2.0\n",
       "20180620190000  BTCUSDT:binance    2.0\n",
       "20180623020000  BTCUSDT:binance    2.0\n",
       "20180624230000  BTCUSDT:binance    2.0\n",
       "20180629140000  BTCUSDT:binance    2.0\n",
       "20180711020000  BTCUSDT:binance    2.0\n",
       "20180727160000  BTCUSDT:binance    2.0\n",
       "20180801030000  BTCUSDT:binance    2.0\n",
       "20180803190000  BTCUSDT:binance    2.0\n",
       "20180805100000  BTCUSDT:binance    2.0\n",
       "20180808170000  BTCUSDT:binance    2.0\n",
       "20180809080000  BTCUSDT:binance    2.0\n",
       "20180819060000  BTCUSDT:binance    2.0\n",
       "20180823080000  BTCUSDT:binance    2.0\n",
       "20180831030000  BTCUSDT:binance    2.0\n",
       "20180906190000  BTCUSDT:binance    2.0\n",
       "20180909120000  BTCUSDT:binance    2.0\n",
       "20180918060000  BTCUSDT:binance    2.0\n",
       "dtype: float64"
      ]
     },
     "execution_count": 29,
     "metadata": {},
     "output_type": "execute_result"
    }
   ],
   "source": [
    "dv1H.get_ts('long').stack()[dv1H.get_ts('long').stack()==2]#观察出现做多信号的时间点"
   ]
  },
  {
   "cell_type": "code",
   "execution_count": 30,
   "metadata": {},
   "outputs": [],
   "source": [
    "#通过测试报告，看多空信号的绩效，这里是定义报告格式\n",
    "from jaqs_fxdayu.research import TimingDigger\n",
    "\n",
    "tdRSI = TimingDigger(output_folder=\".\", output_format='pdf',signal_name='RSI')\n",
    "\n",
    "def TimingSignal(td, dv, long='long', short='short',closeLong='closeLong', closeShort='closeShort'\\\n",
    "                 , mhp=None,sl=None,sp=None):\n",
    "    # step 1：实例化TimingDigger 通过output_folder和output_format指定测试报告的输出路径和输出格式，通过signal_name指定绩效文件名称\n",
    "\n",
    "    #多空信号分别计算一遍 输出汇总结果\n",
    "    td.process_signal(\n",
    "        enter_signal=dv.get_ts(long),\n",
    "        exit_signal=dv.get_ts(closeLong),\n",
    "        sig_type=\"long\",  # 信号类型 long/short\n",
    "        price=dv.get_ts('close'),\n",
    "        max_holding_period=mhp,  # 最大持有天数 可为空\n",
    "        stoploss=-sl,  # 止损百分比 负数 可为空\n",
    "        stopprofit=sp,  # 止盈百分比 正数 可为空\n",
    "    )\n",
    "\n",
    "    td.process_signal(\n",
    "        enter_signal=dv.get_ts(short),\n",
    "        exit_signal=dv.get_ts(closeShort),\n",
    "        sig_type=\"short\",  # 信号类型 long/short\n",
    "        price=dv.get_ts(\"close\"),\n",
    "        max_holding_period=mhp,  # 最大持有天数 可为空\n",
    "        stoploss=-sl,  # 止损百分比 负数 可为空\n",
    "        stopprofit=sp,  # 止盈百分比 正数 可为空\n",
    "    )"
   ]
  },
  {
   "cell_type": "code",
   "execution_count": 31,
   "metadata": {},
   "outputs": [
    {
     "name": "stdout",
     "output_type": "stream",
     "text": [
      "Nan Data Count (should be zero) : 0;  Percentage of effective data: 1%\n",
      "Nan Data Count (should be zero) : 0;  Percentage of effective data: 0%\n"
     ]
    }
   ],
   "source": [
    "TimingSignal(tdRSI, dv1H, mhp=100, sl=0.05, sp=0.3)#调取数据"
   ]
  },
  {
   "cell_type": "code",
   "execution_count": 32,
   "metadata": {},
   "outputs": [
    {
     "name": "stdout",
     "output_type": "stream",
     "text": [
      "*****-Summary-*****\n",
      "Event Analysis\n",
      "                      win    loss     all\n",
      "t-stat              2.508  -7.281  -1.702\n",
      "p-value             0.054   0.000   0.105\n",
      "mean                0.041  -0.044  -0.018\n",
      "std                 0.036   0.022   0.047\n",
      "info_ratio          1.122  -2.019  -0.391\n",
      "skewness            1.047   0.752   1.109\n",
      "kurtosis           -0.039  -0.949   0.723\n",
      "pct5                0.005  -0.064  -0.063\n",
      "pct25               0.018  -0.059  -0.058\n",
      "pct50               0.031  -0.054  -0.026\n",
      "pct75               0.048  -0.025   0.005\n",
      "pct95               0.097  -0.006   0.054\n",
      "occurance           6.000  14.000  20.000\n",
      "win_ratio             NaN     NaN   0.300\n",
      "win_mean/loss_mean    NaN     NaN   0.931\n"
     ]
    }
   ],
   "source": [
    "tdRSI.create_event_report(sig_type=\"long\")"
   ]
  },
  {
   "cell_type": "code",
   "execution_count": 33,
   "metadata": {},
   "outputs": [
    {
     "name": "stdout",
     "output_type": "stream",
     "text": [
      "*****-Summary-*****\n",
      "Event Analysis\n",
      "                      win   loss    all\n",
      "t-stat              2.634 -1.949  0.867\n",
      "p-value             0.046  0.191  0.411\n",
      "mean                0.051 -0.046  0.019\n",
      "std                 0.043  0.033  0.061\n",
      "info_ratio          1.178 -1.378  0.306\n",
      "skewness            0.733  0.537  0.123\n",
      "kurtosis           -0.767 -1.500 -0.607\n",
      "pct5                0.005 -0.076 -0.071\n",
      "pct25               0.022 -0.069 -0.000\n",
      "pct50               0.037 -0.059  0.018\n",
      "pct75               0.072 -0.030  0.038\n",
      "pct95               0.118 -0.006  0.111\n",
      "occurance           6.000  3.000  9.000\n",
      "win_ratio             NaN    NaN  0.667\n",
      "win_mean/loss_mean    NaN    NaN  1.109\n"
     ]
    }
   ],
   "source": [
    "tdRSI.create_event_report(sig_type=\"short\")"
   ]
  },
  {
   "cell_type": "code",
   "execution_count": 34,
   "metadata": {},
   "outputs": [
    {
     "name": "stdout",
     "output_type": "stream",
     "text": [
      "*****-Summary-*****\n",
      "Event Analysis\n",
      "                       win    loss     all\n",
      "t-stat               3.777  -7.311  -0.671\n",
      "p-value              0.003   0.000   0.508\n",
      "mean                 0.046  -0.044  -0.007\n",
      "std                  0.040   0.024   0.054\n",
      "info_ratio           1.139  -1.828  -0.127\n",
      "skewness             0.903   0.654   0.789\n",
      "kurtosis            -0.402  -0.980  -0.074\n",
      "pct5                 0.001  -0.069  -0.065\n",
      "pct25                0.018  -0.059  -0.058\n",
      "pct50                0.037  -0.057  -0.009\n",
      "pct75                0.059  -0.023   0.022\n",
      "pct95                0.120  -0.000   0.101\n",
      "occurance           12.000  17.000  29.000\n",
      "win_ratio              NaN     NaN   0.414\n",
      "win_mean/loss_mean     NaN     NaN   1.038\n"
     ]
    }
   ],
   "source": [
    "tdRSI.create_event_report(sig_type=\"long_short\")#同时计算多空头信号的绩效"
   ]
  },
  {
   "cell_type": "markdown",
   "metadata": {},
   "source": [
    "# 通用性测试"
   ]
  },
  {
   "cell_type": "code",
   "execution_count": 37,
   "metadata": {},
   "outputs": [
    {
     "name": "stdout",
     "output_type": "stream",
     "text": [
      "4.239771366119385\n"
     ]
    }
   ],
   "source": [
    "import warnings\n",
    "warnings.filterwarnings('ignore')\n",
    "\n",
    "from jaqs_fxdayu.data.dataservice import LocalDataService\n",
    "ds = LocalDataService()\n",
    "from time import time\n",
    "## 加freq参数\n",
    "\n",
    "start = time()\n",
    "path = r'./min_data/VnTrader_1Min_Db'\n",
    "props = {'fields': 'open,high,low,close,volume',\n",
    "         'symbol': 'EOSUSDT:binance' ,\n",
    "         'freq': '30Min',\n",
    "         'start_date':20180601000000}\n",
    "\n",
    "Time_dict = ds.bar_reader(path,props) #读取数据\n",
    "print(time()-start)"
   ]
  },
  {
   "cell_type": "code",
   "execution_count": 38,
   "metadata": {},
   "outputs": [],
   "source": [
    "from jaqs_fxdayu.data.hf_dataview import HFDataView\n",
    "dv30Min = HFDataView()"
   ]
  },
  {
   "cell_type": "code",
   "execution_count": 39,
   "metadata": {},
   "outputs": [
    {
     "name": "stdout",
     "output_type": "stream",
     "text": [
      "Initialize dataview success.\n"
     ]
    }
   ],
   "source": [
    "dv30Min.create_init_dv(Time_dict.set_index([\"trade_date\",\"symbol\"]))"
   ]
  },
  {
   "cell_type": "code",
   "execution_count": 41,
   "metadata": {},
   "outputs": [],
   "source": [
    "dv30Min.add_formula('Ui', \"\"\"If(close>Delay(close, 1),close-Delay(close, 1),If(close<Delay(close, 1), 0, 0))\"\"\", add_data=True)\n",
    "dv30Min.add_formula('Di',\"\"\"If(close>Delay(close, 1),0,If(close<Delay(close, 1), Delay(close, 1)-close, 0))\"\"\", add_data=True)\n",
    "RSI = dv30Min.add_formula('RSI_J',\n",
    "                         \"100-100/(1+(Ta('MA',0,Ui,Ui,Ui,Ui,Ui,12)/Ta('MA',0,Di,Di,Di,Di,Di,12)))\" ,\n",
    "                          add_data=True)"
   ]
  },
  {
   "cell_type": "code",
   "execution_count": 42,
   "metadata": {},
   "outputs": [],
   "source": [
    "# 进场信号\n",
    "long = dv30Min.add_formula(\"long\",\"If((Ts_Mean(RSI_J,6)>Ts_Mean(RSI_J,12)) && (Delay(Ts_Mean(RSI_J,6),1)<=Delay(Ts_Mean(RSI_J,12),1) && (RSI_J<30)),2,0)\", add_data=True)\n",
    "short = dv30Min.add_formula(\"short\",\"If((Ts_Mean(RSI_J,6)<Ts_Mean(RSI_J,12)) && (Delay(Ts_Mean(RSI_J,6),1)>=Delay(Ts_Mean(RSI_J,12),1) && (RSI_J>70)),-2,0)\", add_data=True)\n",
    "\n",
    "# 出场信号\n",
    "close_long = dv30Min.add_formula(\"closeLong\",\"If(short==-2,1,0)\", add_data=True)\n",
    "close_short = dv30Min.add_formula(\"closeShort\",\"If(long==2,-1,0)\", add_data=True)"
   ]
  },
  {
   "cell_type": "code",
   "execution_count": 44,
   "metadata": {},
   "outputs": [
    {
     "data": {
      "text/plain": [
       "trade_date      symbol         \n",
       "20180611060000  EOSUSDT:binance    2.0\n",
       "20180618123000  EOSUSDT:binance    2.0\n",
       "20180622183000  EOSUSDT:binance    2.0\n",
       "20180624163000  EOSUSDT:binance    2.0\n",
       "20180629103000  EOSUSDT:binance    2.0\n",
       "20180705080000  EOSUSDT:binance    2.0\n",
       "20180706060000  EOSUSDT:binance    2.0\n",
       "20180710070000  EOSUSDT:binance    2.0\n",
       "20180712173000  EOSUSDT:binance    2.0\n",
       "20180724040000  EOSUSDT:binance    2.0\n",
       "20180731010000  EOSUSDT:binance    2.0\n",
       "20180731043000  EOSUSDT:binance    2.0\n",
       "20180808083000  EOSUSDT:binance    2.0\n",
       "20180808160000  EOSUSDT:binance    2.0\n",
       "20180811093000  EOSUSDT:binance    2.0\n",
       "20180812120000  EOSUSDT:binance    2.0\n",
       "20180814060000  EOSUSDT:binance    2.0\n",
       "20180820200000  EOSUSDT:binance    2.0\n",
       "20180821110000  EOSUSDT:binance    2.0\n",
       "20180905230000  EOSUSDT:binance    2.0\n",
       "20180906050000  EOSUSDT:binance    2.0\n",
       "20180909070000  EOSUSDT:binance    2.0\n",
       "20180911230000  EOSUSDT:binance    2.0\n",
       "20180918033000  EOSUSDT:binance    2.0\n",
       "dtype: float64"
      ]
     },
     "execution_count": 44,
     "metadata": {},
     "output_type": "execute_result"
    }
   ],
   "source": [
    "dv30Min.get_ts('long').stack()[dv30Min.get_ts('long').stack()==2]#观察出现做多信号的时间点"
   ]
  },
  {
   "cell_type": "code",
   "execution_count": 45,
   "metadata": {},
   "outputs": [],
   "source": [
    "#通过测试报告，看多空信号的绩效，这里是定义报告格式\n",
    "from jaqs_fxdayu.research import TimingDigger\n",
    "\n",
    "tdRSI_EOSUSDT = TimingDigger(output_folder=\".\", output_format='pdf',signal_name='RSI_EOSUSDT')\n",
    "\n",
    "def TimingSignal(td, dv, long='long', short='short',closeLong='closeLong', closeShort='closeShort'\\\n",
    "                 , mhp=None,sl=None,sp=None):\n",
    "    # step 1：实例化TimingDigger 通过output_folder和output_format指定测试报告的输出路径和输出格式，通过signal_name指定绩效文件名称\n",
    "\n",
    "    #多空信号分别计算一遍 输出汇总结果\n",
    "    td.process_signal(\n",
    "        enter_signal=dv.get_ts(long),\n",
    "        exit_signal=dv.get_ts(closeLong),\n",
    "        sig_type=\"long\",  # 信号类型 long/short\n",
    "        price=dv.get_ts('close'),\n",
    "        max_holding_period=mhp,  # 最大持有天数 可为空\n",
    "        stoploss=-sl,  # 止损百分比 负数 可为空\n",
    "        stopprofit=sp,  # 止盈百分比 正数 可为空\n",
    "    )\n",
    "\n",
    "    td.process_signal(\n",
    "        enter_signal=dv.get_ts(short),\n",
    "        exit_signal=dv.get_ts(closeShort),\n",
    "        sig_type=\"short\",  # 信号类型 long/short\n",
    "        price=dv.get_ts(\"close\"),\n",
    "        max_holding_period=mhp,  # 最大持有天数 可为空\n",
    "        stoploss=-sl,  # 止损百分比 负数 可为空\n",
    "        stopprofit=sp,  # 止盈百分比 正数 可为空\n",
    "    )"
   ]
  },
  {
   "cell_type": "code",
   "execution_count": 46,
   "metadata": {},
   "outputs": [
    {
     "name": "stdout",
     "output_type": "stream",
     "text": [
      "Nan Data Count (should be zero) : 0;  Percentage of effective data: 0%\n",
      "Nan Data Count (should be zero) : 0;  Percentage of effective data: 0%\n"
     ]
    }
   ],
   "source": [
    "TimingSignal(tdRSI_EOSUSDT, dv30Min, mhp=100, sl=0.05, sp=0.3)#调取数据"
   ]
  },
  {
   "cell_type": "code",
   "execution_count": 47,
   "metadata": {},
   "outputs": [
    {
     "name": "stdout",
     "output_type": "stream",
     "text": [
      "*****-Summary-*****\n",
      "Event Analysis\n",
      "                      win    loss     all\n",
      "t-stat              4.904 -12.414  -1.222\n",
      "p-value             0.003   0.000   0.235\n",
      "mean                0.076  -0.058  -0.017\n",
      "std                 0.038   0.018   0.067\n",
      "info_ratio          2.002  -3.205  -0.260\n",
      "skewness           -0.393   1.285   0.979\n",
      "kurtosis           -0.747   3.953  -0.565\n",
      "pct5                0.018  -0.085  -0.081\n",
      "pct25               0.057  -0.060  -0.059\n",
      "pct50               0.085  -0.058  -0.056\n",
      "pct75               0.095  -0.056   0.023\n",
      "pct95               0.122  -0.039   0.096\n",
      "occurance           7.000  16.000  23.000\n",
      "win_ratio             NaN     NaN   0.304\n",
      "win_mean/loss_mean    NaN     NaN   1.303\n"
     ]
    }
   ],
   "source": [
    "tdRSI_EOSUSDT.create_event_report(sig_type=\"long\")"
   ]
  },
  {
   "cell_type": "code",
   "execution_count": 48,
   "metadata": {},
   "outputs": [
    {
     "name": "stdout",
     "output_type": "stream",
     "text": [
      "*****-Summary-*****\n",
      "Event Analysis\n",
      "                      win    loss     all\n",
      "t-stat              2.506  -6.328   0.041\n",
      "p-value             0.054   0.000   0.968\n",
      "mean                0.095  -0.050   0.001\n",
      "std                 0.085   0.025   0.088\n",
      "info_ratio          1.121  -2.001   0.010\n",
      "skewness            0.662  -0.309   1.455\n",
      "kurtosis           -0.691   0.206   1.472\n",
      "pct5                0.005  -0.084  -0.070\n",
      "pct25               0.022  -0.059  -0.058\n",
      "pct50               0.090  -0.054  -0.022\n",
      "pct75               0.125  -0.038   0.011\n",
      "pct95               0.219  -0.014   0.150\n",
      "occurance           6.000  11.000  17.000\n",
      "win_ratio             NaN     NaN   0.353\n",
      "win_mean/loss_mean    NaN     NaN   1.884\n"
     ]
    }
   ],
   "source": [
    "tdRSI_EOSUSDT.create_event_report(sig_type=\"short\")"
   ]
  },
  {
   "cell_type": "code",
   "execution_count": 49,
   "metadata": {},
   "outputs": [
    {
     "name": "stdout",
     "output_type": "stream",
     "text": [
      "*****-Summary-*****\n",
      "Event Analysis\n",
      "                       win    loss     all\n",
      "t-stat               4.541 -12.962  -0.780\n",
      "p-value              0.001   0.000   0.440\n",
      "mean                 0.085  -0.055  -0.010\n",
      "std                  0.065   0.022   0.077\n",
      "info_ratio           1.311  -2.542  -0.125\n",
      "skewness             0.946   0.426   1.383\n",
      "kurtosis             0.887   1.202   1.460\n",
      "pct5                 0.007  -0.090  -0.083\n",
      "pct25                0.036  -0.059  -0.059\n",
      "pct50                0.085  -0.058  -0.054\n",
      "pct75                0.124  -0.054   0.017\n",
      "pct95                0.180  -0.012   0.125\n",
      "occurance           13.000  27.000  40.000\n",
      "win_ratio              NaN     NaN   0.325\n",
      "win_mean/loss_mean     NaN     NaN   1.538\n"
     ]
    }
   ],
   "source": [
    "tdRSI_EOSUSDT.create_event_report(sig_type=\"long_short\")#同时计算多空头信号的绩效"
   ]
  },
  {
   "cell_type": "markdown",
   "metadata": {},
   "source": [
    "# alpha101中的alpha004"
   ]
  },
  {
   "cell_type": "code",
   "execution_count": 50,
   "metadata": {},
   "outputs": [],
   "source": [
    "#观察因子alpha101中的alpha004\n",
    "import warnings\n",
    "warnings.filterwarnings('ignore')"
   ]
  },
  {
   "cell_type": "code",
   "execution_count": 51,
   "metadata": {},
   "outputs": [
    {
     "name": "stdout",
     "output_type": "stream",
     "text": [
      "4.172842502593994\n"
     ]
    }
   ],
   "source": [
    "from jaqs_fxdayu.data.dataservice import LocalDataService\n",
    "ds = LocalDataService()\n",
    "from time import time\n",
    "## 加freq参数\n",
    "\n",
    "start = time()\n",
    "path = r'./min_data/VnTrader_1Min_Db'\n",
    "props = {'fields': 'open,high,low,close,volume',\n",
    "         'symbol': 'BTCUSDT:binance' ,\n",
    "         'freq': '1H',\n",
    "         'start_date':20180601000000}\n",
    "\n",
    "Time_dict = ds.bar_reader(path,props) #读取数据\n",
    "print(time()-start)"
   ]
  },
  {
   "cell_type": "code",
   "execution_count": 52,
   "metadata": {},
   "outputs": [],
   "source": [
    "from jaqs_fxdayu.data.hf_dataview import HFDataView\n",
    "dv = HFDataView()"
   ]
  },
  {
   "cell_type": "code",
   "execution_count": 53,
   "metadata": {},
   "outputs": [
    {
     "name": "stdout",
     "output_type": "stream",
     "text": [
      "Initialize dataview success.\n"
     ]
    }
   ],
   "source": [
    "dv.create_init_dv(Time_dict.set_index([\"trade_date\",\"symbol\"]))"
   ]
  },
  {
   "cell_type": "code",
   "execution_count": 54,
   "metadata": {},
   "outputs": [],
   "source": [
    "import matplotlib.pyplot as plt\n",
    "\n",
    "def plot_chart(close,alpha):\n",
    "    fig,(ax,ax1) = plt.subplots(2,1,sharex=True, figsize=(15,8))\n",
    "    ax.plot(close.iloc[-250:])\n",
    "    ax1.plot(alpha.iloc[-250:])\n",
    "    # plt.savefig('good')\n",
    "    plt.show()"
   ]
  },
  {
   "cell_type": "code",
   "execution_count": 55,
   "metadata": {},
   "outputs": [],
   "source": [
    "def RankPct(df):\n",
    "    return df.rank(axis=1, pct=True)"
   ]
  },
  {
   "cell_type": "code",
   "execution_count": 60,
   "metadata": {},
   "outputs": [
    {
     "name": "stdout",
     "output_type": "stream",
     "text": [
      "Field [alpha4_C] is overwritten.\n",
      "Field [alpha4_C] is overwritten.\n"
     ]
    }
   ],
   "source": [
    "alpha4=dv.add_formula('alpha4_C','-1*Ts_Rank(RankPct(low),9)',add_data=True,register_funcs={'RankPct':RankPct})\n",
    "alpha4_change=dv.add_formula('alpha4_C','Ts_Rank(low,9)',add_data=True,register_funcs={'RankPct':RankPct})"
   ]
  },
  {
   "cell_type": "code",
   "execution_count": 61,
   "metadata": {},
   "outputs": [],
   "source": [
    "alpha4_plot = dv.get_ts('alpha4_C', date_type='datetime')\n",
    "close = dv.get_ts('close', date_type='datetime')"
   ]
  },
  {
   "cell_type": "code",
   "execution_count": 62,
   "metadata": {},
   "outputs": [
    {
     "data": {
      "image/png": "[encoded data removed]",
      "text/plain": [
       "<Figure size 1080x576 with 2 Axes>"
      ]
     },
     "metadata": {},
     "output_type": "display_data"
    }
   ],
   "source": [
    "plot_chart(close, alpha4_plot)"
   ]
  },
  {
   "cell_type": "markdown",
   "metadata": {},
   "source": [
    "在每个交易日，rank(low)就是对当前所有的股票的最低价排序，Ts_Rank(RankPct(low),9 表示过去9天，每天每只股票的最低价存在一个位置，因此调仓时，每只股票有过去9个rank位置，对这9个位置排序，今天的因子值为今天rank值在过去9天中的rank\n",
    "进场信号：\n",
    "long:如果出现，当alpha4等于9 的信号时，赋值2表示做多，下多单。\n",
    "short:如果出现，当alpha4等于1 的信号时，赋值-2表示做空，下空单。\n",
    "出场信号： \n",
    "close_long：判断当前市场是否出现新的信号可以开空单，那么就平掉原来的多仓，否则继续持有多仓。赋值为1，表示平多仓。\n",
    "close_short：判断当前市场是否出现新的信号可以开多单，那么就平掉原来的空仓，否则继续持有空仓。赋值为-1，表示平空仓。"
   ]
  },
  {
   "cell_type": "code",
   "execution_count": 66,
   "metadata": {},
   "outputs": [],
   "source": [
    "# 进场信号\n",
    "long = dv.add_formula(\"long\",\"If((alpha4_C==9),2,0)\", add_data=True)\n",
    "short = dv.add_formula(\"short\",\"If((alpha4_C==1),-2,0)\", add_data=True)\n",
    "\n",
    "# 出场信号\n",
    "close_long = dv.add_formula(\"closeLong\",\"If(short==-2,1,0)\", add_data=True)\n",
    "close_short = dv.add_formula(\"closeShort\",\"If(long==2,-1,0)\", add_data=True)"
   ]
  },
  {
   "cell_type": "code",
   "execution_count": 67,
   "metadata": {},
   "outputs": [
    {
     "data": {
      "text/plain": [
       "trade_date      symbol         \n",
       "20180601150000  BTCUSDT:binance    2.0\n",
       "20180601160000  BTCUSDT:binance    2.0\n",
       "20180602050000  BTCUSDT:binance    2.0\n",
       "20180602060000  BTCUSDT:binance    2.0\n",
       "20180602070000  BTCUSDT:binance    2.0\n",
       "20180602150000  BTCUSDT:binance    2.0\n",
       "20180602160000  BTCUSDT:binance    2.0\n",
       "20180602180000  BTCUSDT:binance    2.0\n",
       "20180603030000  BTCUSDT:binance    2.0\n",
       "20180603140000  BTCUSDT:binance    2.0\n",
       "20180603150000  BTCUSDT:binance    2.0\n",
       "20180603170000  BTCUSDT:binance    2.0\n",
       "20180604080000  BTCUSDT:binance    2.0\n",
       "20180605050000  BTCUSDT:binance    2.0\n",
       "20180606000000  BTCUSDT:binance    2.0\n",
       "20180606010000  BTCUSDT:binance    2.0\n",
       "20180606020000  BTCUSDT:binance    2.0\n",
       "20180606140000  BTCUSDT:binance    2.0\n",
       "20180606210000  BTCUSDT:binance    2.0\n",
       "20180607060000  BTCUSDT:binance    2.0\n",
       "20180607080000  BTCUSDT:binance    2.0\n",
       "20180607090000  BTCUSDT:binance    2.0\n",
       "20180607100000  BTCUSDT:binance    2.0\n",
       "20180609010000  BTCUSDT:binance    2.0\n",
       "20180609020000  BTCUSDT:binance    2.0\n",
       "20180609040000  BTCUSDT:binance    2.0\n",
       "20180609050000  BTCUSDT:binance    2.0\n",
       "20180609100000  BTCUSDT:binance    2.0\n",
       "20180609110000  BTCUSDT:binance    2.0\n",
       "20180609140000  BTCUSDT:binance    2.0\n",
       "                                  ... \n",
       "20180915200000  BTCUSDT:binance    2.0\n",
       "20180915210000  BTCUSDT:binance    2.0\n",
       "20180916180000  BTCUSDT:binance    2.0\n",
       "20180916190000  BTCUSDT:binance    2.0\n",
       "20180917040000  BTCUSDT:binance    2.0\n",
       "20180917080000  BTCUSDT:binance    2.0\n",
       "20180917090000  BTCUSDT:binance    2.0\n",
       "20180918130000  BTCUSDT:binance    2.0\n",
       "20180918150000  BTCUSDT:binance    2.0\n",
       "20180918210000  BTCUSDT:binance    2.0\n",
       "20180918220000  BTCUSDT:binance    2.0\n",
       "20180919100000  BTCUSDT:binance    2.0\n",
       "20180919130000  BTCUSDT:binance    2.0\n",
       "20180919140000  BTCUSDT:binance    2.0\n",
       "20180920040000  BTCUSDT:binance    2.0\n",
       "20180920190000  BTCUSDT:binance    2.0\n",
       "20180920200000  BTCUSDT:binance    2.0\n",
       "20180921060000  BTCUSDT:binance    2.0\n",
       "20180921070000  BTCUSDT:binance    2.0\n",
       "20180921080000  BTCUSDT:binance    2.0\n",
       "20180921090000  BTCUSDT:binance    2.0\n",
       "20180921100000  BTCUSDT:binance    2.0\n",
       "20180921110000  BTCUSDT:binance    2.0\n",
       "20180921150000  BTCUSDT:binance    2.0\n",
       "20180921160000  BTCUSDT:binance    2.0\n",
       "20180921170000  BTCUSDT:binance    2.0\n",
       "20180921180000  BTCUSDT:binance    2.0\n",
       "20180921190000  BTCUSDT:binance    2.0\n",
       "20180921200000  BTCUSDT:binance    2.0\n",
       "20180921210000  BTCUSDT:binance    2.0\n",
       "Length: 566, dtype: float64"
      ]
     },
     "execution_count": 67,
     "metadata": {},
     "output_type": "execute_result"
    }
   ],
   "source": [
    "dv.get_ts('long').stack()[dv.get_ts('long').stack()==2]#观察出现做多信号的时间点"
   ]
  },
  {
   "cell_type": "code",
   "execution_count": 68,
   "metadata": {},
   "outputs": [],
   "source": [
    "#通过测试报告，看多空信号的绩效，这里是定义报告格式\n",
    "from jaqs_fxdayu.research import TimingDigger\n",
    "\n",
    "tdalpha4 = TimingDigger(output_folder=\".\", output_format='pdf',signal_name='alpha4')\n",
    "\n",
    "def TimingSignal(td, dv, long='long', short='short',closeLong='closeLong', closeShort='closeShort'\\\n",
    "                 , mhp=None,sl=None,sp=None):\n",
    "    # step 1：实例化TimingDigger 通过output_folder和output_format指定测试报告的输出路径和输出格式，通过signal_name指定绩效文件名称\n",
    "\n",
    "    #多空信号分别计算一遍 输出汇总结果\n",
    "    td.process_signal(\n",
    "        enter_signal=dv.get_ts(long),\n",
    "        exit_signal=dv.get_ts(closeLong),\n",
    "        sig_type=\"long\",  # 信号类型 long/short\n",
    "        price=dv.get_ts('close'),\n",
    "        max_holding_period=mhp,  # 最大持有天数 可为空\n",
    "        stoploss=-sl,  # 止损百分比 负数 可为空\n",
    "        stopprofit=sp,  # 止盈百分比 正数 可为空\n",
    "    )\n",
    "\n",
    "    td.process_signal(\n",
    "        enter_signal=dv.get_ts(short),\n",
    "        exit_signal=dv.get_ts(closeShort),\n",
    "        sig_type=\"short\",  # 信号类型 long/short\n",
    "        price=dv.get_ts(\"close\"),\n",
    "        max_holding_period=mhp,  # 最大持有天数 可为空\n",
    "        stoploss=-sl,  # 止损百分比 负数 可为空\n",
    "        stopprofit=sp,  # 止盈百分比 正数 可为空\n",
    "    )"
   ]
  },
  {
   "cell_type": "code",
   "execution_count": 69,
   "metadata": {},
   "outputs": [
    {
     "name": "stdout",
     "output_type": "stream",
     "text": [
      "Nan Data Count (should be zero) : 0;  Percentage of effective data: 20%\n",
      "Nan Data Count (should be zero) : 0;  Percentage of effective data: 12%\n"
     ]
    }
   ],
   "source": [
    "TimingSignal(tdalpha4, dv, mhp=100, sl=0.05, sp=0.3)#调取数据"
   ]
  },
  {
   "cell_type": "code",
   "execution_count": 70,
   "metadata": {},
   "outputs": [
    {
     "name": "stdout",
     "output_type": "stream",
     "text": [
      "*****-Summary-*****\n",
      "Event Analysis\n",
      "                        win     loss      all\n",
      "t-stat               11.182  -20.868   -3.259\n",
      "p-value               0.000    0.000    0.001\n",
      "mean                  0.015   -0.011   -0.003\n",
      "std                   0.018    0.010    0.018\n",
      "info_ratio            0.838   -1.080   -0.139\n",
      "skewness              1.972   -2.004    1.297\n",
      "kurtosis              3.807    4.627    5.233\n",
      "pct5                  0.001   -0.031   -0.026\n",
      "pct25                 0.003   -0.014   -0.010\n",
      "pct50                 0.009   -0.008   -0.005\n",
      "pct75                 0.021   -0.004    0.003\n",
      "pct95                 0.050   -0.001    0.029\n",
      "occurance           179.000  374.000  553.000\n",
      "win_ratio               NaN      NaN    0.324\n",
      "win_mean/loss_mean      NaN      NaN    1.384\n"
     ]
    }
   ],
   "source": [
    "tdalpha4.create_event_report(sig_type=\"long\")"
   ]
  },
  {
   "cell_type": "code",
   "execution_count": 71,
   "metadata": {},
   "outputs": [
    {
     "name": "stdout",
     "output_type": "stream",
     "text": [
      "*****-Summary-*****\n",
      "Event Analysis\n",
      "                        win     loss      all\n",
      "t-stat                9.843  -17.270    0.315\n",
      "p-value               0.000    0.000    0.753\n",
      "mean                  0.020   -0.011    0.000\n",
      "std                   0.022    0.009    0.021\n",
      "info_ratio            0.910   -1.227    0.018\n",
      "skewness              1.245   -1.283    1.502\n",
      "kurtosis              0.510    1.259    2.949\n",
      "pct5                  0.001   -0.030   -0.027\n",
      "pct25                 0.003   -0.015   -0.010\n",
      "pct50                 0.009   -0.009   -0.003\n",
      "pct75                 0.032   -0.004    0.005\n",
      "pct95                 0.066   -0.001    0.044\n",
      "occurance           118.000  199.000  317.000\n",
      "win_ratio               NaN      NaN    0.372\n",
      "win_mean/loss_mean      NaN      NaN    1.777\n"
     ]
    }
   ],
   "source": [
    "tdalpha4.create_event_report(sig_type=\"short\")"
   ]
  },
  {
   "cell_type": "code",
   "execution_count": 72,
   "metadata": {},
   "outputs": [
    {
     "name": "stdout",
     "output_type": "stream",
     "text": [
      "*****-Summary-*****\n",
      "Event Analysis\n",
      "                        win     loss      all\n",
      "t-stat               14.817  -26.923   -2.228\n",
      "p-value               0.000    0.000    0.026\n",
      "mean                  0.017   -0.011   -0.001\n",
      "std                   0.020    0.010    0.019\n",
      "info_ratio            0.861   -1.126   -0.076\n",
      "skewness              1.635   -1.817    1.430\n",
      "kurtosis              2.056    3.870    4.306\n",
      "pct5                  0.001   -0.031   -0.027\n",
      "pct25                 0.003   -0.014   -0.010\n",
      "pct50                 0.009   -0.008   -0.004\n",
      "pct75                 0.023   -0.004    0.003\n",
      "pct95                 0.065   -0.001    0.036\n",
      "occurance           297.000  573.000  870.000\n",
      "win_ratio               NaN      NaN    0.341\n",
      "win_mean/loss_mean      NaN      NaN    1.542\n"
     ]
    }
   ],
   "source": [
    "tdalpha4.create_event_report(sig_type=\"long_short\") #同时计算多空头信号的绩效"
   ]
  },
  {
   "cell_type": "markdown",
   "metadata": {},
   "source": [
    "# 通用性测试"
   ]
  },
  {
   "cell_type": "code",
   "execution_count": 73,
   "metadata": {},
   "outputs": [
    {
     "name": "stdout",
     "output_type": "stream",
     "text": [
      "4.241812705993652\n"
     ]
    }
   ],
   "source": [
    "import warnings\n",
    "warnings.filterwarnings('ignore')\n",
    "\n",
    "from jaqs_fxdayu.data.dataservice import LocalDataService\n",
    "ds = LocalDataService()\n",
    "from time import time\n",
    "## 加freq参数\n",
    "\n",
    "start = time()\n",
    "path = r'./min_data/VnTrader_1Min_Db'\n",
    "props = {'fields': 'open,high,low,close,volume',\n",
    "         'symbol': 'EOSUSDT:binance' ,\n",
    "         'freq': '4H',\n",
    "         'start_date':20180601000000}\n",
    "\n",
    "Time_dict = ds.bar_reader(path,props) #读取数据\n",
    "print(time()-start)"
   ]
  },
  {
   "cell_type": "code",
   "execution_count": 74,
   "metadata": {},
   "outputs": [],
   "source": [
    "from jaqs_fxdayu.data.hf_dataview import HFDataView\n",
    "dv4H = HFDataView()"
   ]
  },
  {
   "cell_type": "code",
   "execution_count": 75,
   "metadata": {},
   "outputs": [
    {
     "name": "stdout",
     "output_type": "stream",
     "text": [
      "Initialize dataview success.\n"
     ]
    }
   ],
   "source": [
    "dv4H.create_init_dv(Time_dict.set_index([\"trade_date\",\"symbol\"]))"
   ]
  },
  {
   "cell_type": "code",
   "execution_count": 76,
   "metadata": {},
   "outputs": [],
   "source": [
    "import matplotlib.pyplot as plt\n",
    "\n",
    "def plot_chart(close,alpha):\n",
    "    fig,(ax,ax1) = plt.subplots(2,1,sharex=True, figsize=(15,8))\n",
    "    ax.plot(close.iloc[-250:])\n",
    "    ax1.plot(alpha.iloc[-250:])\n",
    "    # plt.savefig('good')\n",
    "    plt.show()"
   ]
  },
  {
   "cell_type": "code",
   "execution_count": 77,
   "metadata": {},
   "outputs": [],
   "source": [
    "def RankPct(df):\n",
    "    return df.rank(axis=1, pct=True)"
   ]
  },
  {
   "cell_type": "code",
   "execution_count": 78,
   "metadata": {},
   "outputs": [
    {
     "name": "stdout",
     "output_type": "stream",
     "text": [
      "Field [alpha4_C] is overwritten.\n"
     ]
    }
   ],
   "source": [
    "alpha4=dv4H.add_formula('alpha4_C','-1*Ts_Rank(RankPct(low),9)',add_data=True,register_funcs={'RankPct':RankPct})\n",
    "alpha4_change=dv4H.add_formula('alpha4_C','Ts_Rank(low,9)',add_data=True,register_funcs={'RankPct':RankPct})"
   ]
  },
  {
   "cell_type": "code",
   "execution_count": 79,
   "metadata": {},
   "outputs": [],
   "source": [
    "# 进场信号\n",
    "long = dv4H.add_formula(\"long\",\"If((alpha4_C==9),2,0)\", add_data=True)\n",
    "short = dv4H.add_formula(\"short\",\"If((alpha4_C==1),-2,0)\", add_data=True)\n",
    "\n",
    "# 出场信号\n",
    "close_long = dv4H.add_formula(\"closeLong\",\"If(short==-2,1,0)\", add_data=True)\n",
    "close_short = dv4H.add_formula(\"closeShort\",\"If(long==2,-1,0)\", add_data=True)"
   ]
  },
  {
   "cell_type": "code",
   "execution_count": 80,
   "metadata": {},
   "outputs": [
    {
     "data": {
      "text/plain": [
       "trade_date      symbol         \n",
       "20180602120000  EOSUSDT:binance    2.0\n",
       "20180602160000  EOSUSDT:binance    2.0\n",
       "20180602200000  EOSUSDT:binance    2.0\n",
       "20180603000000  EOSUSDT:binance    2.0\n",
       "20180603080000  EOSUSDT:binance    2.0\n",
       "20180603160000  EOSUSDT:binance    2.0\n",
       "20180603200000  EOSUSDT:binance    2.0\n",
       "20180606000000  EOSUSDT:binance    2.0\n",
       "20180606040000  EOSUSDT:binance    2.0\n",
       "20180606080000  EOSUSDT:binance    2.0\n",
       "20180606200000  EOSUSDT:binance    2.0\n",
       "20180608040000  EOSUSDT:binance    2.0\n",
       "20180609120000  EOSUSDT:binance    2.0\n",
       "20180609160000  EOSUSDT:binance    2.0\n",
       "20180612120000  EOSUSDT:binance    2.0\n",
       "20180614120000  EOSUSDT:binance    2.0\n",
       "20180614160000  EOSUSDT:binance    2.0\n",
       "20180615040000  EOSUSDT:binance    2.0\n",
       "20180619040000  EOSUSDT:binance    2.0\n",
       "20180619200000  EOSUSDT:binance    2.0\n",
       "20180621120000  EOSUSDT:binance    2.0\n",
       "20180625160000  EOSUSDT:binance    2.0\n",
       "20180626000000  EOSUSDT:binance    2.0\n",
       "20180626040000  EOSUSDT:binance    2.0\n",
       "20180628040000  EOSUSDT:binance    2.0\n",
       "20180630080000  EOSUSDT:binance    2.0\n",
       "20180630120000  EOSUSDT:binance    2.0\n",
       "20180630160000  EOSUSDT:binance    2.0\n",
       "20180701040000  EOSUSDT:binance    2.0\n",
       "20180702080000  EOSUSDT:binance    2.0\n",
       "                                  ... \n",
       "20180829200000  EOSUSDT:binance    2.0\n",
       "20180830040000  EOSUSDT:binance    2.0\n",
       "20180831160000  EOSUSDT:binance    2.0\n",
       "20180831200000  EOSUSDT:binance    2.0\n",
       "20180901000000  EOSUSDT:binance    2.0\n",
       "20180901040000  EOSUSDT:binance    2.0\n",
       "20180901080000  EOSUSDT:binance    2.0\n",
       "20180901120000  EOSUSDT:binance    2.0\n",
       "20180901160000  EOSUSDT:binance    2.0\n",
       "20180902000000  EOSUSDT:binance    2.0\n",
       "20180904200000  EOSUSDT:binance    2.0\n",
       "20180907120000  EOSUSDT:binance    2.0\n",
       "20180910000000  EOSUSDT:binance    2.0\n",
       "20180913040000  EOSUSDT:binance    2.0\n",
       "20180913080000  EOSUSDT:binance    2.0\n",
       "20180913200000  EOSUSDT:binance    2.0\n",
       "20180914000000  EOSUSDT:binance    2.0\n",
       "20180914040000  EOSUSDT:binance    2.0\n",
       "20180914120000  EOSUSDT:binance    2.0\n",
       "20180915200000  EOSUSDT:binance    2.0\n",
       "20180917080000  EOSUSDT:binance    2.0\n",
       "20180919120000  EOSUSDT:binance    2.0\n",
       "20180920040000  EOSUSDT:binance    2.0\n",
       "20180920160000  EOSUSDT:binance    2.0\n",
       "20180920200000  EOSUSDT:binance    2.0\n",
       "20180921000000  EOSUSDT:binance    2.0\n",
       "20180921040000  EOSUSDT:binance    2.0\n",
       "20180921080000  EOSUSDT:binance    2.0\n",
       "20180921120000  EOSUSDT:binance    2.0\n",
       "20180921160000  EOSUSDT:binance    2.0\n",
       "Length: 119, dtype: float64"
      ]
     },
     "execution_count": 80,
     "metadata": {},
     "output_type": "execute_result"
    }
   ],
   "source": [
    "dv4H.get_ts('long').stack()[dv4H.get_ts('long').stack()==2]#观察出现做多信号的时间点"
   ]
  },
  {
   "cell_type": "code",
   "execution_count": 86,
   "metadata": {},
   "outputs": [],
   "source": [
    "#通过测试报告，看多空信号的绩效，这里是定义报告格式\n",
    "from jaqs_fxdayu.research import TimingDigger\n",
    "\n",
    "tdalpha4_EOSUSDT = TimingDigger(output_folder=\".\", output_format='pdf',signal_name='alpha4_EOSUSDT')\n",
    "\n",
    "def TimingSignal(td, dv4H, long='long', short='short',closeLong='closeLong', closeShort='closeShort'\\\n",
    "                 , mhp=None,sl=None,sp=None):\n",
    "    # step 1：实例化TimingDigger 通过output_folder和output_format指定测试报告的输出路径和输出格式，通过signal_name指定绩效文件名称\n",
    "\n",
    "    #多空信号分别计算一遍 输出汇总结果\n",
    "    td.process_signal(\n",
    "        enter_signal=dv4H.get_ts(long),\n",
    "        exit_signal=dv4H.get_ts(closeLong),\n",
    "        sig_type=\"long\",  # 信号类型 long/short\n",
    "        price=dv4H.get_ts('close'),\n",
    "        max_holding_period=mhp,  # 最大持有天数 可为空\n",
    "        stoploss=-sl,  # 止损百分比 负数 可为空\n",
    "        stopprofit=sp,  # 止盈百分比 正数 可为空\n",
    "    )\n",
    "\n",
    "    td.process_signal(\n",
    "        enter_signal=dv4H.get_ts(short),\n",
    "        exit_signal=dv4H.get_ts(closeShort),\n",
    "        sig_type=\"short\",  # 信号类型 long/short\n",
    "        price=dv4H.get_ts(\"close\"),\n",
    "        max_holding_period=mhp,  # 最大持有天数 可为空\n",
    "        stoploss=-sl,  # 止损百分比 负数 可为空\n",
    "        stopprofit=sp,  # 止盈百分比 正数 可为空\n",
    "    )"
   ]
  },
  {
   "cell_type": "code",
   "execution_count": 87,
   "metadata": {},
   "outputs": [
    {
     "name": "stdout",
     "output_type": "stream",
     "text": [
      "Nan Data Count (should be zero) : 0;  Percentage of effective data: 16%\n",
      "Nan Data Count (should be zero) : 0;  Percentage of effective data: 15%\n"
     ]
    }
   ],
   "source": [
    "TimingSignal(tdalpha4_EOSUSDT, dv4H, mhp=100, sl=0.05, sp=0.3)#调取数据"
   ]
  },
  {
   "cell_type": "code",
   "execution_count": 88,
   "metadata": {},
   "outputs": [
    {
     "name": "stdout",
     "output_type": "stream",
     "text": [
      "*****-Summary-*****\n",
      "Event Analysis\n",
      "                       win    loss      all\n",
      "t-stat               6.954 -14.937   -0.342\n",
      "p-value              0.000   0.000    0.733\n",
      "mean                 0.084  -0.048   -0.003\n",
      "std                  0.073   0.027    0.079\n",
      "info_ratio           1.143  -1.773   -0.033\n",
      "skewness             0.993  -0.081    1.426\n",
      "kurtosis             0.722  -0.803    1.971\n",
      "pct5                 0.003  -0.094   -0.083\n",
      "pct25                0.024  -0.067   -0.058\n",
      "pct50                0.070  -0.054   -0.022\n",
      "pct75                0.119  -0.024    0.024\n",
      "pct95                0.205  -0.008    0.163\n",
      "occurance           38.000  72.000  110.000\n",
      "win_ratio              NaN     NaN    0.345\n",
      "win_mean/loss_mean     NaN     NaN    1.739\n"
     ]
    }
   ],
   "source": [
    "tdalpha4_EOSUSDT.create_event_report(sig_type=\"long\")"
   ]
  },
  {
   "cell_type": "code",
   "execution_count": 89,
   "metadata": {},
   "outputs": [
    {
     "name": "stdout",
     "output_type": "stream",
     "text": [
      "*****-Summary-*****\n",
      "Event Analysis\n",
      "                       win    loss      all\n",
      "t-stat               7.520 -10.024    1.414\n",
      "p-value              0.000   0.000    0.160\n",
      "mean                 0.071  -0.044    0.011\n",
      "std                  0.064   0.031    0.076\n",
      "info_ratio           1.097  -1.390    0.141\n",
      "skewness             1.431  -0.406    1.067\n",
      "kurtosis             2.144  -0.524    1.571\n",
      "pct5                 0.007  -0.089   -0.078\n",
      "pct25                0.019  -0.068   -0.049\n",
      "pct50                0.056  -0.046   -0.001\n",
      "pct75                0.097  -0.013    0.045\n",
      "pct95                0.194  -0.001    0.143\n",
      "occurance           48.000  53.000  101.000\n",
      "win_ratio              NaN     NaN    0.475\n",
      "win_mean/loss_mean     NaN     NaN    1.622\n"
     ]
    }
   ],
   "source": [
    "tdalpha4_EOSUSDT.create_event_report(sig_type=\"short\")"
   ]
  },
  {
   "cell_type": "code",
   "execution_count": 90,
   "metadata": {},
   "outputs": [
    {
     "name": "stdout",
     "output_type": "stream",
     "text": [
      "*****-Summary-*****\n",
      "Event Analysis\n",
      "                       win     loss      all\n",
      "t-stat              10.247  -17.685    0.702\n",
      "p-value              0.000    0.000    0.484\n",
      "mean                 0.077   -0.046    0.004\n",
      "std                  0.069    0.029    0.078\n",
      "info_ratio           1.111   -1.588    0.048\n",
      "skewness             1.223   -0.219    1.242\n",
      "kurtosis             1.387   -0.657    1.692\n",
      "pct5                 0.004   -0.093   -0.083\n",
      "pct25                0.023   -0.068   -0.055\n",
      "pct50                0.059   -0.053   -0.012\n",
      "pct75                0.118   -0.021    0.037\n",
      "pct95                0.209   -0.004    0.156\n",
      "occurance           86.000  125.000  211.000\n",
      "win_ratio              NaN      NaN    0.408\n",
      "win_mean/loss_mean     NaN      NaN    1.654\n"
     ]
    }
   ],
   "source": [
    "tdalpha4_EOSUSDT.create_event_report(sig_type=\"long_short\") #同时计算多空头信号的绩效"
   ]
  },
  {
   "cell_type": "code",
   "execution_count": null,
   "metadata": {},
   "outputs": [],
   "source": []
  },
  {
   "cell_type": "code",
   "execution_count": null,
   "metadata": {},
   "outputs": [],
   "source": []
  },
  {
   "cell_type": "code",
   "execution_count": null,
   "metadata": {},
   "outputs": [],
   "source": []
  }
 ],
 "metadata": {
  "kernelspec": {
   "display_name": "Python 3",
   "language": "python",
   "name": "python3"
  },
  "language_info": {
   "codemirror_mode": {
    "name": "ipython",
    "version": 3
   },
   "file_extension": ".py",
   "mimetype": "text/x-python",
   "name": "python",
   "nbconvert_exporter": "python",
   "pygments_lexer": "ipython3",
   "version": "3.6.5"
  }
 },
 "nbformat": 4,
 "nbformat_minor": 2
}
